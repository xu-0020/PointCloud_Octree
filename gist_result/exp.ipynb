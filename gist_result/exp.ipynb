{
 "cells": [
  {
   "cell_type": "code",
   "execution_count": 3,
   "metadata": {},
   "outputs": [],
   "source": [
    "import psycopg2\n",
    "import time\n",
    "conn = psycopg2.connect(\n",
    "    host=\"localhost\",\n",
    "    port=\"5433\",\n",
    "    database=\"hjingaa\",\n",
    "    user=\"postgres\",\n",
    "    password=\"postgres\"\n",
    ")\n",
    "cur = conn.cursor()"
   ]
  },
  {
   "cell_type": "code",
   "execution_count": 4,
   "metadata": {},
   "outputs": [
    {
     "name": "stdout",
     "output_type": "stream",
     "text": [
      "1018052\n",
      "GISTGISTThe bound is (-80.569450, 198.299469), (-148.178925, -32.199074), (6.067082, 32.687916). Time cost = 25.00981116294861 microseconds.find 1018052 points.\n",
      "1087377\n",
      "GISTGISTThe bound is (-82.393593, 200.123596), (-148.937576, -31.440426), (5.892950, 32.862049). Time cost = 14.504500150680542 microseconds.find 1087377 points.\n",
      "1149789\n",
      "GISTGISTThe bound is (-84.217728, 201.947739), (-149.696228, -30.681778), (5.718818, 33.036179). Time cost = 14.871097087860107 microseconds.find 1149789 points.\n"
     ]
    }
   ],
   "source": [
    "file_path = \"/export/project/hjingaa/PointCloud_Octree/result_hkm/Result_OR.txt\"\n",
    "sentence_list = []\n",
    "count = 0\n",
    "with open(file_path, \"r\") as file:\n",
    "    lines = file.readlines()\n",
    "    for line in lines:\n",
    "        query_sentence = line.strip()\n",
    "        tmp_minX = str(query_sentence.capitalize().split(\"(\")[1].split(\",\")[0])\n",
    "        tmp_maxX = str(query_sentence.capitalize().split(\")\")[0].split(\" \")[-1])\n",
    "        tmp_minY = str(query_sentence.capitalize().split(\"(\")[2].split(\",\")[0])\n",
    "        tmp_maxY = str(query_sentence.capitalize().split(\")\")[1].split(\" \")[-1])\n",
    "        tmp_minZ = str(query_sentence.capitalize().split(\"(\")[3].split(\",\")[0])\n",
    "        tmp_maxZ = str(query_sentence.capitalize().split(\")\")[2].split(\" \")[-1])\n",
    "        command = \"select count(*) from hk_small where ST_3DIntersects(pos,Box3D(ST_SetSRID(ST_GeomFromEWKT('LINESTRING({tmp_minX} {tmp_minY} {tmp_minZ},{tmp_maxX} {tmp_maxY} {tmp_maxZ})'), 4326)));\".format(tmp_minX=tmp_minX, tmp_maxX=tmp_maxX, tmp_minY=tmp_minY, tmp_maxY=tmp_maxY, tmp_minZ=tmp_minZ, tmp_maxZ=tmp_maxZ)\n",
    "        # print(command)\n",
    "        start_time = time.time()\n",
    "        cur.execute(command)\n",
    "        end_time = time.time()\n",
    "        execution_time = end_time - start_time\n",
    "        rows = cur.fetchall()\n",
    "        sentence = \"GISTGISTThe bound is (\" + str(tmp_minX) + \", \" + str(tmp_maxX) + \"), (\" + str(tmp_minY) + \", \" + str(tmp_maxY) + \"), (\" + str(tmp_minZ) + \", \" + str(tmp_maxZ) + \").\" + \" Time cost = \" + str(execution_time) +\" microseconds.\" + \"find \" + str(row[0]) + \" points.\";\n",
    "        sentence_list.append(sentence)\n",
    "        print(sentence)\n",
    "        # count += 1\n",
    "        # if count == 3:\n",
    "        #     break\n",
    "cur.close()\n",
    "conn.close()"
   ]
  },
  {
   "cell_type": "code",
   "execution_count": 5,
   "metadata": {},
   "outputs": [],
   "source": [
    "with open(\"Result_hkm.txt\", \"w\") as file:\n",
    "    for item in sentence_list:\n",
    "        file.write(item + \"\\n\")"
   ]
  }
 ],
 "metadata": {
  "kernelspec": {
   "display_name": "hjingaa",
   "language": "python",
   "name": "python3"
  },
  "language_info": {
   "codemirror_mode": {
    "name": "ipython",
    "version": 3
   },
   "file_extension": ".py",
   "mimetype": "text/x-python",
   "name": "python",
   "nbconvert_exporter": "python",
   "pygments_lexer": "ipython3",
   "version": "3.9.0"
  }
 },
 "nbformat": 4,
 "nbformat_minor": 2
}
