{
 "cells": [
  {
   "cell_type": "code",
   "execution_count": 2,
   "metadata": {},
   "outputs": [],
   "source": [
    "import psycopg2\n",
    "import time\n",
    "conn = psycopg2.connect(\n",
    "    host=\"localhost\",\n",
    "    port=\"5433\",\n",
    "    database=\"hjingaa\",\n",
    "    user=\"postgres\",\n",
    "    password=\"postgres\"\n",
    ")\n",
    "cur = conn.cursor()"
   ]
  },
  {
   "cell_type": "code",
   "execution_count": 3,
   "metadata": {},
   "outputs": [],
   "source": [
    "file_path = \"/export/project/hjingaa/PointCloud_Octree/result_montreal/Result_OR.txt\"\n",
    "sentence_list = []\n",
    "count = 0\n",
    "with open(file_path, \"r\") as file:\n",
    "    lines = file.readlines()\n",
    "    for line in lines:\n",
    "        query_sentence = line.strip()\n",
    "        tmp_minX = str(query_sentence.capitalize().split(\"(\")[1].split(\",\")[0])\n",
    "        tmp_maxX = str(query_sentence.capitalize().split(\")\")[0].split(\" \")[-1])\n",
    "        tmp_minY = str(query_sentence.capitalize().split(\"(\")[2].split(\",\")[0])\n",
    "        tmp_maxY = str(query_sentence.capitalize().split(\")\")[1].split(\" \")[-1])\n",
    "        tmp_minZ = str(query_sentence.capitalize().split(\"(\")[3].split(\",\")[0])\n",
    "        tmp_maxZ = str(query_sentence.capitalize().split(\")\")[2].split(\" \")[-1])\n",
    "        command = \"select count(*) from montreal where ST_3DIntersects(pos,Box3D(ST_SetSRID(ST_GeomFromEWKT('LINESTRING({tmp_minX} {tmp_minY} {tmp_minZ},{tmp_maxX} {tmp_maxY} {tmp_maxZ})'), 4326)));\".format(tmp_minX=tmp_minX, tmp_maxX=tmp_maxX, tmp_minY=tmp_minY, tmp_maxY=tmp_maxY, tmp_minZ=tmp_minZ, tmp_maxZ=tmp_maxZ)\n",
    "        # print(command)\n",
    "        start_time = time.time()\n",
    "        cur.execute(command)\n",
    "        end_time = time.time()\n",
    "        execution_time = end_time - start_time\n",
    "        rows = cur.fetchall()\n",
    "        sentence = \"GISTGISTThe bound is (\" + str(tmp_minX) + \", \" + str(tmp_maxX) + \"), (\" + str(tmp_minY) + \", \" + str(tmp_maxY) + \"), (\" + str(tmp_minZ) + \", \" + str(tmp_maxZ) + \").\" + \" Time cost = \" + str(execution_time) +\" microseconds.\" + \"find \" + str(row[0]) + \" points.\";\n",
    "        sentence_list.append(sentence)\n",
    "        print(sentence)\n",
    "        # count += 1\n",
    "        # if count == 3:\n",
    "        #     break\n",
    "cur.close()\n",
    "conn.close()"
   ]
  },
  {
   "cell_type": "code",
   "execution_count": null,
   "metadata": {},
   "outputs": [],
   "source": [
    "with open(\"Result_montreal.txt\", \"w\") as file:\n",
    "    for item in sentence_list:\n",
    "        file.write(item + \"\\n\")"
   ]
  },
  {
   "cell_type": "code",
   "execution_count": 1,
   "metadata": {},
   "outputs": [
    {
     "name": "stdout",
     "output_type": "stream",
     "text": [
      "GISTGISTThe bound is (-87.865997, 205.596008), (-151.213516, -29.164484), (5.370554, 33.384445). Time cost = 16.192816257476807 seconds.find 1268662 points.\n",
      "\n",
      "GISTGISTThe bound is (-96.986687, 214.716690), (-155.006760, -25.371248), (4.499893, 34.255104). Time cost = 15.25928020477295 seconds.find 1555635 points.\n",
      "\n",
      "GISTGISTThe bound is (-106.107368, 223.837372), (-158.799988, -21.578012), (3.629232, 35.125767). Time cost = 15.98616099357605 seconds.find 1899074 points.\n",
      "\n",
      "GISTGISTThe bound is (-115.228050, 232.958069), (-162.593231, -17.784775), (2.758572, 35.996426). Time cost = 17.520407676696777 seconds.find 2416870 points.\n",
      "\n",
      "GISTGISTThe bound is (-124.348732, 242.078751), (-166.386459, -13.991540), (1.887911, 36.867088). Time cost = 19.190529346466064 seconds.find 2850860 points.\n",
      "\n",
      "GISTGISTThe bound is (-133.469421, 251.199432), (-170.179703, -10.198303), (1.017250, 37.737747). Time cost = 20.607636213302612 seconds.find 3334346 points.\n",
      "\n",
      "GISTGISTThe bound is (-142.590103, 260.320129), (-173.972931, -6.405067), (0.146589, 38.608410). Time cost = 22.813137769699097 seconds.find 4048076 points.\n",
      "\n",
      "GISTGISTThe bound is (-151.710785, 269.440796), (-177.766174, -2.611831), (-0.724071, 39.479069). Time cost = 25.08274221420288 seconds.find 4777908 points.\n",
      "\n",
      "GISTGISTThe bound is (-160.831467, 278.561493), (-181.559402, 1.181405), (-1.594732, 40.349731). Time cost = 27.770575046539307 seconds.find 5708306 points.\n",
      "\n",
      "GISTGISTThe bound is (-169.952148, 287.682159), (-185.352646, 4.974641), (-2.465393, 41.220390). Time cost = 31.301528930664062 seconds.find 7103453 points.\n",
      "\n",
      "GISTGISTThe bound is (-179.072845, 296.802856), (-189.145874, 8.767877), (-3.336053, 42.091053). Time cost = 34.85080862045288 seconds.find 8090290 points.\n",
      "\n",
      "GISTGISTThe bound is (-188.193527, 305.923523), (-192.939117, 12.561113), (-4.206714, 42.961712). Time cost = 37.49259543418884 seconds.find 8735399 points.\n",
      "\n",
      "GISTGISTThe bound is (-197.314209, 315.044220), (-196.732346, 16.354349), (-5.077375, 43.832375). Time cost = 40.287391662597656 seconds.find 9341962 points.\n",
      "\n",
      "GISTGISTThe bound is (-206.434891, 324.164917), (-200.525589, 20.147585), (-5.948036, 44.703033). Time cost = 43.483436822891235 seconds.find 10111392 points.\n",
      "\n",
      "GISTGISTThe bound is (-215.555573, 333.285583), (-204.318817, 23.940821), (-6.818696, 45.573696). Time cost = 49.686485290527344 seconds.find 11654847 points.\n",
      "\n",
      "GISTGISTThe bound is (-224.676254, 342.406281), (-208.112061, 27.734056), (-7.689357, 46.444355). Time cost = 52.33157181739807 seconds.find 12250207 points.\n",
      "\n",
      "GISTGISTThe bound is (-233.796951, 351.526947), (-211.905289, 31.527294), (-8.560018, 47.315018). Time cost = 54.92718005180359 seconds.find 12825665 points.\n",
      "\n",
      "GISTGISTThe bound is (-242.917633, 360.647644), (-215.698532, 35.320530), (-9.430678, 48.185677). Time cost = 57.75244975090027 seconds.find 13503653 points.\n",
      "\n",
      "GISTGISTThe bound is (-252.038315, 369.768311), (-219.491760, 39.113766), (-10.301339, 49.056339). Time cost = 60.025644302368164 seconds.find 14284721 points.\n",
      "\n"
     ]
    }
   ],
   "source": [
    "file_path = \"Result_hkm.txt\"\n",
    "\n",
    "filtered_lines = []\n",
    "with open(file_path, \"r\") as file:\n",
    "    for line_number, line in enumerate(file, start=1):\n",
    "        if line_number % 5 == 0:\n",
    "            filtered_lines.append(line)\n",
    "\n",
    "# Print the filtered lines\n",
    "for line in filtered_lines:\n",
    "    print(line)"
   ]
  },
  {
   "cell_type": "code",
   "execution_count": 4,
   "metadata": {},
   "outputs": [],
   "source": [
    "with open(\"Result_hkm.txt\", \"w\") as file:\n",
    "    for item in filtered_lines:\n",
    "        file.write(item)"
   ]
  }
 ],
 "metadata": {
  "kernelspec": {
   "display_name": "hjingaa",
   "language": "python",
   "name": "python3"
  },
  "language_info": {
   "codemirror_mode": {
    "name": "ipython",
    "version": 3
   },
   "file_extension": ".py",
   "mimetype": "text/x-python",
   "name": "python",
   "nbconvert_exporter": "python",
   "pygments_lexer": "ipython3",
   "version": "3.9.0"
  }
 },
 "nbformat": 4,
 "nbformat_minor": 2
}
